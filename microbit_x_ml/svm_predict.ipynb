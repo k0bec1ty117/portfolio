{
  "nbformat": 4,
  "nbformat_minor": 0,
  "metadata": {
    "colab": {
      "provenance": []
    },
    "kernelspec": {
      "name": "python3",
      "display_name": "Python 3"
    },
    "language_info": {
      "name": "python"
    }
  },
  "cells": [
    {
      "cell_type": "markdown",
      "metadata": {
        "id": "I9_YAWEm7gz4"
      },
      "source": [
        "# SVMジェスチャー推論\n",
        "\n",
        "- 同じディレクトリに`microbit_data2.csv`が必要\n",
        "- 同じディレクトリに`model.sav`も必要"
      ]
    },
    {
      "cell_type": "code",
      "metadata": {
        "id": "6YQm0PqzAVJx"
      },
      "source": [
        "%matplotlib inline"
      ],
      "execution_count": null,
      "outputs": []
    },
    {
      "cell_type": "code",
      "metadata": {
        "id": "djt5tUvy92gJ"
      },
      "source": [
        "import pandas as pd\n",
        "\n",
        "#pandasでcsv読込み\n",
        "df = pd.read_csv('microbit_data2.csv', header=None)\n",
        "\n",
        "#カラム名を付与\n",
        "df.columns = ['x', 'y', 'z', 'label']\n",
        "\n",
        "#プロット\n",
        "df.plot(y=df.columns[0:3])"
      ],
      "execution_count": null,
      "outputs": []
    },
    {
      "cell_type": "code",
      "metadata": {
        "id": "Fvrk69xO-B_Y"
      },
      "source": [
        "#移動平均と標準偏差のデータに変換\n",
        "import numpy as np\n",
        "\n",
        "#移動平均と標準偏差で計算対象とするデータ値\n",
        "n = 50\n",
        "\n",
        "#x,y,zのデータ列のみ抜粋\n",
        "df_xyz = df.iloc[:, 0:3]\n",
        "\n",
        "#移動平均\n",
        "df_mean = df_xyz.rolling(n).mean() #n個ずつのデータで平均\n",
        "df_mean.columns = ['mean_x', 'mean_y', 'mean_z'] #列名を変更\n",
        "\n",
        "#標準偏差\n",
        "df_std = df_xyz.rolling(n).std() #n個ずつのデータで標準偏差\n",
        "df_std.columns = ['std_x', 'std_y', 'std_z'] #列名を変更\n",
        "\n",
        "#移動平均と標準偏差を横に結合\n",
        "df_xyz = df_mean.join(df_std)\n",
        "\n",
        "#NaN（欠損値）データが１つでも含まれる行は削除\n",
        "df_xyz = df_xyz.dropna()\n",
        "\n",
        "#プロット\n",
        "df_xyz.plot(y=df_xyz.columns[0:3], title='test')\n",
        "df_xyz.plot(y=df_xyz.columns[3:6], title='test')\n",
        "\n",
        "#データをndarrayに変換してX_testとする\n",
        "X_test = df_xyz.values\n",
        "\n",
        "#確認表示\n",
        "print(X_test)"
      ],
      "execution_count": null,
      "outputs": []
    },
    {
      "cell_type": "code",
      "metadata": {
        "id": "S-op5YUI-NNu"
      },
      "source": [
        "from sklearn.svm import LinearSVC\n",
        "import pickle\n",
        "\n",
        "#モデル読み込み\n",
        "model = pickle.load(open('model.sav', 'rb'))\n",
        "\n",
        "#推論\n",
        "y_pred = model.predict(X_test)\n",
        "\n",
        "#結果表示\n",
        "print(y_pred)"
      ],
      "execution_count": null,
      "outputs": []
    },
    {
      "cell_type": "code",
      "metadata": {
        "id": "zOR6aXdu-VBq"
      },
      "source": [
        "from scipy.special import softmax\n",
        "\n",
        "#各ラベルに対するスコアを出す\n",
        "y_decition = model.decision_function(X_test)\n",
        "print(y_decition)\n",
        "\n",
        "#softmaxを使って確率値に近いものに変換\n",
        "np.set_printoptions(precision=2, suppress=True)#小数点以下2桁表示で指数表記を禁止\n",
        "y_prob = softmax(y_decition, axis=1)\n",
        "print(y_prob)\n",
        "\n",
        "#DataFrameに変換\n",
        "df_y_prob = pd.DataFrame(y_prob)\n",
        "print(df_y_prob)"
      ],
      "execution_count": null,
      "outputs": []
    },
    {
      "cell_type": "code",
      "metadata": {
        "id": "bJRHr3YVqdWN"
      },
      "source": [
        "#列名をラベルに紐づいたテキストにする\n",
        "gestures = ['Standing (stationary)', 'Walking','Sit', 'Keystroke', 'Bye bye', ' Arms folded', 'Guts pose', 'Scratch the back of the head', 'Thumbs up']\n",
        "label_texts = []\n",
        "\n",
        "#学習時に使ったラベルのテキストのみ抽出\n",
        "for label in model.classes_:\n",
        "  label = int(label)\n",
        "  label_texts.append(gestures[label])\n",
        "\n",
        "#列名をテキストにする\n",
        "df_y_prob.columns = label_texts\n",
        "\n",
        "#プロット\n",
        "df_y_prob.plot()"
      ],
      "execution_count": null,
      "outputs": []
    }
  ]
}