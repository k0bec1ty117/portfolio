{
  "nbformat": 4,
  "nbformat_minor": 0,
  "metadata": {
    "colab": {
      "provenance": []
    },
    "kernelspec": {
      "name": "python3",
      "display_name": "Python 3"
    },
    "language_info": {
      "name": "python"
    }
  },
  "cells": [
    {
      "cell_type": "markdown",
      "metadata": {
        "id": "q7UDWdGC8C8D"
      },
      "source": [
        "# SVMジェスチャー前処理＆学習\n",
        "\n",
        "- 同じディレクトリに`microbit_data.csv`が必要\n",
        "- 最後まで実行することで`model.sav`が上書き保存される"
      ]
    },
    {
      "cell_type": "code",
      "metadata": {
        "id": "kUAxe2TnASX5"
      },
      "source": [
        "%matplotlib inline"
      ],
      "execution_count": null,
      "outputs": []
    },
    {
      "cell_type": "code",
      "metadata": {
        "id": "75X2YbdX8sDG"
      },
      "source": [
        "import pandas as pd\n",
        "\n",
        "#pandasでcsv読込み\n",
        "df = pd.read_csv('microbit_data.csv', header=None)\n",
        "\n",
        "#カラム名を付与\n",
        "df.columns = ['x', 'y', 'z', 'label']\n",
        "\n",
        "#プロット\n",
        "df.plot(y=df.columns[0:3])"
      ],
      "execution_count": null,
      "outputs": []
    },
    {
      "cell_type": "code",
      "metadata": {
        "id": "G-qz4dam9KiR"
      },
      "source": [
        "#使用したラベルを抽出\n",
        "label_list = df['label'].unique()\n",
        "\n",
        "#ラベル表示\n",
        "print(label_list)"
      ],
      "execution_count": null,
      "outputs": []
    },
    {
      "cell_type": "code",
      "metadata": {
        "id": "N5Cgkr2O9Q0g"
      },
      "source": [
        "#各ラベル毎に移動平均と標準偏差のデータに変換\n",
        "import numpy as np\n",
        "\n",
        "#移動平均と標準偏差で計算対象とするデータ値\n",
        "n = 50\n",
        "\n",
        "#空のndarray作成\n",
        "X = np.empty((0, 6)) #mean_x, mean_y, mean_z, std_x, std_y, std_z\n",
        "y = np.empty((0))    #label\n",
        "\n",
        "#label_listの数だけ処理\n",
        "for label_value in label_list: \n",
        "    df_part = df[df['label'] == label_value] #ラベル列がlabelと一致する行のみ抜粋\n",
        "    df_xyz = df_part.iloc[:, 0:3] #x,y,zのデータ列のみ抜粋\n",
        "\n",
        "    #移動平均\n",
        "    df_mean = df_xyz.rolling(n).mean() #n個ずつのデータで平均\n",
        "    df_mean.columns = ['mean_x', 'mean_y', 'mean_z'] #列名を変更\n",
        "\n",
        "    #標準偏差\n",
        "    df_std = df_xyz.rolling(n).std() #n個ずつのデータで標準偏差\n",
        "    df_std.columns = ['std_x', 'std_y', 'std_z'] #列名を変更\n",
        "\n",
        "    #移動平均と標準偏差を横に結合\n",
        "    df_xyz = df_mean.join(df_std)\n",
        "\n",
        "    #NaN（欠損値）データが１つでも含まれる行は削除\n",
        "    df_xyz = df_xyz.dropna()\n",
        "\n",
        "    #プロット\n",
        "    df_xyz.plot(y=df_xyz.columns[0:3], title=str(label_value))\n",
        "    df_xyz.plot(y=df_xyz.columns[3:6], title=str(label_value))\n",
        "    \n",
        "    #データをndarrayに変換してXに追加\n",
        "    np_xyz = df_xyz.values\n",
        "    X = np.append(X, np_xyz, axis=0)\n",
        "\n",
        "    #ラベルをndarrayに変換してyに追加\n",
        "    np_label = np.ones(len(df_xyz)) * label_value\n",
        "    y = np.append(y, np_label , axis=0)\n",
        "\n",
        "#確認表示\n",
        "print(X)\n",
        "print(y)"
      ],
      "execution_count": null,
      "outputs": []
    },
    {
      "cell_type": "code",
      "metadata": {
        "id": "1Gakya0W9b65"
      },
      "source": [
        "from sklearn.svm import LinearSVC\n",
        "from sklearn.model_selection import train_test_split\n",
        "\n",
        "#訓練データとテストデータに分ける\n",
        "X_train, X_test, y_train, y_test = train_test_split(X, y, test_size=0.3)\n",
        "\n",
        "#モデル作成\n",
        "model = LinearSVC()\n",
        "\n",
        "#学習\n",
        "model.fit(X_train, y_train)\n",
        "\n",
        "#テストデータの予測\n",
        "y_pred = model.predict(X_test)\n",
        "\n",
        "#予測精度の表示\n",
        "print(model.score(X_test, y_pred))"
      ],
      "execution_count": null,
      "outputs": []
    },
    {
      "cell_type": "code",
      "metadata": {
        "id": "rImSpPqe9d25"
      },
      "source": [
        "#モデルの保存\n",
        "import pickle\n",
        "filename = 'model.sav'\n",
        "pickle.dump(model, open(filename, 'wb'))"
      ],
      "execution_count": null,
      "outputs": []
    }
  ]
}